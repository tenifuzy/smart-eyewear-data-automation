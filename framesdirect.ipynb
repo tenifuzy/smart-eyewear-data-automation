{
 "cells": [
  {
   "cell_type": "code",
   "execution_count": 90,
   "id": "ea89f33a",
   "metadata": {},
   "outputs": [],
   "source": [
    "import csv\n",
    "import json\n",
    "import os\n",
    "from selenium import webdriver\n",
    "from selenium.webdriver.chrome.service import Service\n",
    "from selenium.webdriver.chrome.options import Options\n",
    "from selenium.webdriver.common.by import By\n",
    "from selenium.webdriver.support.ui import WebDriverWait as WDW\n",
    "from selenium.webdriver.support import expected_conditions as EC    \n",
    "from selenium.common.exceptions import TimeoutException\n",
    "from webdriver_manager.chrome import ChromeDriverManager\n",
    "from bs4 import BeautifulSoup\n",
    "import re\n",
    "\n",
    "def safe_float(text):\n",
    "    \"\"\"Convert price string like '$237' to float. Return None if empty/invalid.\"\"\"\n",
    "    if text:\n",
    "        cleaned = text.replace(\"$\", \"\").replace(\",\", \"\").strip()\n",
    "        return float(cleaned) if cleaned else None\n",
    "    return None"
   ]
  },
  {
   "cell_type": "code",
   "execution_count": 69,
   "id": "458c53ab",
   "metadata": {},
   "outputs": [],
   "source": [
    "# Setup Selenium and WebDriver\n",
    "chrome_option = Options()\n",
    "chrome_option.add_argument('--headless')\n",
    "chrome_option.add_argument('--disable-gpu')\n",
    "chrome_option.add_argument('--no-sandbox')\n",
    "chrome_option.add_argument('--disable-dev-shm-usage')\n",
    "chrome_option.add_argument(\n",
    "    \"user-agent=Mozilla/5.0 (Windows NT 10.0; Win64; x64) AppleWebKit/537.36 (KHTML, like Gecko) Chrome/131.0.6778.265 Safari/537.36\"\n",
    ")\n",
    "\n",
    "service = Service(ChromeDriverManager().install())\n",
    "driver = webdriver.Chrome(service=service, options=chrome_option)"
   ]
  },
  {
   "cell_type": "code",
   "execution_count": 70,
   "id": "fcd5debf",
   "metadata": {},
   "outputs": [
    {
     "name": "stdout",
     "output_type": "stream",
     "text": [
      "Visiting https://www.framesdirect.com/eyeglasses page\n"
     ]
    }
   ],
   "source": [
    "url = \"https://www.framesdirect.com/eyeglasses\"\n",
    "print(f\"Visiting {url} page\")\n",
    "driver.get(url)\n",
    "\n",
    "# Wait for product tiles to load\n",
    "try:\n",
    "    WDW(driver, 15).until(\n",
    "        EC.presence_of_all_elements_located((By.CLASS_NAME, 'prod-holder'))\n",
    "    )\n",
    "except TimeoutException:\n",
    "    print(\"Timed out waiting for products to load\")\n",
    "    driver.quit()\n",
    "    exit(1)\n"
   ]
  },
  {
   "cell_type": "code",
   "execution_count": 71,
   "id": "0940e2f8",
   "metadata": {},
   "outputs": [],
   "source": [
    "# Parse page source\n",
    "content = driver.page_source\n",
    "page = BeautifulSoup(content, 'html.parser')"
   ]
  },
  {
   "cell_type": "code",
   "execution_count": 91,
   "id": "f49eaf7b",
   "metadata": {},
   "outputs": [
    {
     "name": "stdout",
     "output_type": "stream",
     "text": [
      "Found 25 products\n",
      "Extracted 25 products and saved to eyeglasses_data.csv\n",
      "Saved 25 records to JSON\n",
      "End of Web Extraction\n"
     ]
    }
   ],
   "source": [
    "glasses_data = []\n",
    "\n",
    "product_holder = page.find_all(\"div\", class_='prod-holder')\n",
    "print(f\"Found {len(product_holder)} products\")\n",
    "\n",
    "for tile in product_holder:\n",
    "    # --- Product title section ---\n",
    "    prod_title = tile.find(\"div\", class_='prod-title prod-model')\n",
    "    \n",
    "    if prod_title:\n",
    "        brand_tag = prod_title.find(\"div\", class_='catalog-name')  \n",
    "        brand = brand_tag.get_text(strip=True) if brand_tag else None\n",
    "\n",
    "        product_name = prod_title.find(\"div\", class_='product_name')\n",
    "        name = product_name.get_text(strip=True) if product_name else None\n",
    "    else:\n",
    "        brand = name = None\n",
    "\n",
    "    # --- Price Section ---\n",
    "    price_wrap = tile.find(\"div\", class_='prod-price-wrap')\n",
    "    if price_wrap:\n",
    "        current_price_tag = price_wrap.find(\"div\", class_='prod-aslowas')\n",
    "        current_price = safe_float(current_price_tag.get_text(strip=True)) if current_price_tag else None\n",
    "\n",
    "        former_price_tag = price_wrap.find(\"div\", class_='prod-catalog-retail-price')\n",
    "        former_price = safe_float(former_price_tag.get_text(strip=True)) if former_price_tag else None\n",
    "\n",
    "        discount_tag = price_wrap.find(\"div\", class_='frame-discount')\n",
    "        if discount_tag:\n",
    "            discount_text = discount_tag.get_text(strip=True)\n",
    "            match = re.search(r\"(\\d+)\", discount_text)\n",
    "            discount = float(match.group(1)) if match else None\n",
    "        else:\n",
    "            discount = None\n",
    "    else:\n",
    "        former_price = current_price = discount = None\n",
    "    \n",
    "    # Always append, even if some fields are None\n",
    "    glasses_data.append({\n",
    "        \"brand\": brand,\n",
    "        \"name\": name,\n",
    "        \"current_price\": current_price,\n",
    "        \"former_price\": former_price,\n",
    "        \"discount\": discount\n",
    "    })\n",
    "\n",
    "# --- Export to CSV ---\n",
    "import csv\n",
    "with open(\"eyeglasses_data.csv\", \"w\", newline=\"\", encoding=\"utf-8\") as f:\n",
    "    writer = csv.DictWriter(f, fieldnames=[\"brand\", \"name\", \"current_price\", \"former_price\", \"discount\"])\n",
    "    writer.writeheader()\n",
    "    writer.writerows(glasses_data)\n",
    "\n",
    "print(f\"Extracted {len(glasses_data)} products and saved to eyeglasses_data.csv\")\n",
    "\n",
    "# Save to JSON\n",
    "# Save to JSON\n",
    "with open(\"data/glassesdotcom.json\", mode='w', encoding='utf-8') as json_file:\n",
    "        json.dump(glasses_data, json_file, indent=4, ensure_ascii=False)\n",
    "print(f\"Saved {len(glasses_data)} records to JSON\")\n",
    "\n",
    "# Close the browser\n",
    "driver.quit()\n",
    "print(\"End of Web Extraction\")\n"
   ]
  }
 ],
 "metadata": {
  "kernelspec": {
   "display_name": "venv",
   "language": "python",
   "name": "python3"
  },
  "language_info": {
   "codemirror_mode": {
    "name": "ipython",
    "version": 3
   },
   "file_extension": ".py",
   "mimetype": "text/x-python",
   "name": "python",
   "nbconvert_exporter": "python",
   "pygments_lexer": "ipython3",
   "version": "3.12.6"
  }
 },
 "nbformat": 4,
 "nbformat_minor": 5
}
