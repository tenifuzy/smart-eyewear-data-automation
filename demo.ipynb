{
 "cells": [
  {
   "cell_type": "code",
   "execution_count": 19,
   "id": "e940fde3",
   "metadata": {},
   "outputs": [],
   "source": [
    "from selenium import webdriver\n",
    "from selenium.webdriver.chrome.service import Service\n",
    "from selenium.webdriver.chrome.options import Options\n",
    "from selenium.webdriver.common.by import By\n",
    "from selenium.webdriver.support.ui import WebDriverWait as WDW\n",
    "from selenium.webdriver.support import expected_conditions as EC    \n",
    "from webdriver_manager.chrome import ChromeDriverManager\n",
    "from bs4 import BeautifulSoup\n",
    "\n"
   ]
  },
  {
   "cell_type": "code",
   "execution_count": 20,
   "id": "62323ed5",
   "metadata": {},
   "outputs": [
    {
     "name": "stdout",
     "output_type": "stream",
     "text": [
      "Setting up webdriver...\n"
     ]
    }
   ],
   "source": [
    "# Step 1 - Configuration and Data Fetching\n",
    "# Setup Selenium and WebDriver\n",
    "print(\"Setting up webdriver...\")\n",
    "chrome_option = Options()\n",
    "chrome_option.add_argument('--headless')\n",
    "chrome_option.add_argument('--disable-gpu')\n",
    "chrome_option.add_argument(\n",
    "    \"user-agent=Mozilla/5.0 (Windows NT 10.0; Win64; x64) AppleWebKit/537.36 (KHTML, like Gecko) Chrome/131.0.6778.265 Safari/537.36\"\n",
    ")\n",
    "    "
   ]
  },
  {
   "cell_type": "code",
   "execution_count": 21,
   "id": "27614f5f",
   "metadata": {},
   "outputs": [
    {
     "name": "stdout",
     "output_type": "stream",
     "text": [
      "Installing Chrome WD\n",
      "Final Setup\n"
     ]
    }
   ],
   "source": [
    "# Install the chrome driver (This is a one time thing)\n",
    "print(\"Installing Chrome WD\")\n",
    "service = Service(ChromeDriverManager().install())\n",
    "print(\"Final Setup\")\n",
    "driver = webdriver.Chrome(service=service, options=chrome_option)"
   ]
  },
  {
   "cell_type": "code",
   "execution_count": 23,
   "id": "6f72f818",
   "metadata": {},
   "outputs": [
    {
     "name": "stdout",
     "output_type": "stream",
     "text": [
      "Visting https://www.glasses.com/gl-us/eyeglasses page\n",
      "Waiting for product tiles to load\n"
     ]
    }
   ],
   "source": [
    "# Make connection and get URL content\n",
    "url = \"https://www.glasses.com/gl-us/eyeglasses\"\n",
    "print(f\"Visting {url} page\")\n",
    "driver.get(url)\n",
    "\n",
    "# Further instruction: wait for JS to load the files\n",
    "try:\n",
    "    print(\"Waiting for product tiles to load\")\n",
    "    WDW(driver, 15).until(\n",
    "        EC.presence_of_element_located((By.CLASS_NAME, 'catalog-page'))\n",
    "    )\n",
    "except TimeoutError as e:\n",
    "    print(f\"waiting for productts to lod after time out: \")\n",
    "    WDW(driver, 30).until(\n",
    "        EC.presence_of_element_located((By.CLASS_NAME, 'catalog-page'))\n",
    "    )\n",
    "except (Exception) as e:\n",
    "    print(f\"Error: Something Occurred: for {url}: {e}\")\n",
    "    driver.quit()\n",
    "    exit(1)\n",
    "    "
   ]
  },
  {
   "cell_type": "code",
   "execution_count": null,
   "id": "a847a0d0",
   "metadata": {},
   "outputs": [],
   "source": [
    "# Step 2 - Data Parsing and Extraction\n",
    "# Get page source and parse using BeautifulSoup\n",
    "print(\"Extracting HTML Source\")\n",
    "content = driver.page_source\n",
    "page = BeautifulSoup(content, 'html.parser')\n",
    "print(page)"
   ]
  },
  {
   "cell_type": "code",
   "execution_count": 25,
   "id": "82352361",
   "metadata": {},
   "outputs": [
    {
     "name": "stdout",
     "output_type": "stream",
     "text": [
      "Found 26 products\n"
     ]
    }
   ],
   "source": [
    "# Temporary storage for the extracted data\n",
    "glasses_data = []\n",
    "\n",
    "# Locate all product tiles and extract the data for each product.\n",
    "product_tiles = page.find_all(\"a\", class_='product-tile')\n",
    "print(f\"Found {len(product_tiles)} products\")"
   ]
  },
  {
   "cell_type": "code",
   "execution_count": null,
   "id": "96d87ce6",
   "metadata": {},
   "outputs": [],
   "source": [
    "for tile in product_tiles:\n",
    "    product_info = tile.find('div', class_='product-info')\n",
    "\n",
    "    if product_info:\n",
    "        brand_tag = product_info.find('div', class_='product-brand')\n",
    "        brand = brand_tag.text if brand_tag else None # product brand\n",
    "        print(brand)\n",
    "\n",
    "        name_tag = product_info.find('div', class_='product-code')\n",
    "        name = name_tag.text if name_tag else None\n",
    "        print(name)\n",
    "\n",
    "        # for price\n",
    "        price_cnt = product_info.find('div', class_='product-prices')\n",
    "        if price_cnt:\n",
    "            # Former Price\n",
    "            former_price_tag = price_cnt.find('div', class_='product-list-price')\n",
    "            former_price = former_price_tag.text if former_price_tag else None\n",
    "            print(former_price)\n",
    "            # Current Price\n",
    "            current_price_tag = price_cnt.find('div', class_='product-offer-price')\n",
    "            current_price = current_price_tag.text if current_price_tag else None\n",
    "            print(current_price)\n",
    "        else:\n",
    "            former_price = current_price = None\n",
    "    else:\n",
    "        brand = name = former_price = current_price = None \n",
    "         # Category\n",
    "    category = \"eyeglasses\"  # Since we are on the eyeglasses page\n",
    "    print(category)\n",
    "    \n",
    "       \n",
    "    # Automatically applies missing value, if the product info is not available.\n",
    "    \n",
    "    discount_tag = tile.find('div', class_='product-badge discount-badge thirty')\n",
    "    discount = discount_tag.text if discount_tag else None\n",
    "    \n",
    "    \n",
    "    glasses_data.append({\n",
    "        'brand': brand,\n",
    "        'name': name,\n",
    "        'category': category,\n",
    "        'former_price': former_price,\n",
    "        'current_price': current_price,\n",
    "        'discount': discount\n",
    "    })"
   ]
  },
  {
   "cell_type": "code",
   "execution_count": 45,
   "id": "946a88ab",
   "metadata": {},
   "outputs": [
    {
     "name": "stdout",
     "output_type": "stream",
     "text": [
      "✅ Saved 52 records to CSV\n",
      "✅ Saved 52 records to JSON\n",
      "🔚 End of Web Extraction\n"
     ]
    }
   ],
   "source": [
    "# Step 3 - Data Storage and Finalization\n",
    "# Save to CSV file\n",
    "import csv\n",
    "import json\n",
    "import os\n",
    "\n",
    "# Ensure output folder exists\n",
    "os.makedirs(\"data\", exist_ok=True)\n",
    "\n",
    "if glasses_data:\n",
    "    # Save to CSV\n",
    "    column_names = glasses_data[0].keys()\n",
    "    with open('data/glassesdotcom_data.csv', mode='w', newline='', encoding='utf-8') as csv_file:\n",
    "        dict_writer = csv.DictWriter(csv_file, fieldnames=column_names)\n",
    "        dict_writer.writeheader()\n",
    "        dict_writer.writerows(glasses_data)\n",
    "    print(f\"✅ Saved {len(glasses_data)} records to CSV\")\n",
    "\n",
    "    # Save to JSON\n",
    "    with open(\"data/glassesdotcom.json\", mode='w', encoding='utf-8') as json_file:\n",
    "        json.dump(glasses_data, json_file, indent=4, ensure_ascii=False)\n",
    "    print(f\"✅ Saved {len(glasses_data)} records to JSON\")\n",
    "else:\n",
    "    print(\"⚠️ No data extracted, skipping file saves.\")\n",
    "\n",
    "# Close the browser\n",
    "driver.quit()\n",
    "print(\"🔚 End of Web Extraction\")\n"
   ]
  }
 ],
 "metadata": {
  "kernelspec": {
   "display_name": "venv",
   "language": "python",
   "name": "python3"
  },
  "language_info": {
   "codemirror_mode": {
    "name": "ipython",
    "version": 3
   },
   "file_extension": ".py",
   "mimetype": "text/x-python",
   "name": "python",
   "nbconvert_exporter": "python",
   "pygments_lexer": "ipython3",
   "version": "3.12.6"
  }
 },
 "nbformat": 4,
 "nbformat_minor": 5
}
